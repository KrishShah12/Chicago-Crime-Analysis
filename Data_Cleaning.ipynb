{
 "cells": [
  {
   "cell_type": "code",
   "execution_count": 1,
   "id": "42b35732",
   "metadata": {},
   "outputs": [],
   "source": [
    "import pandas as pd\n",
    "import numpy as np\n",
    "import os\n",
    "\n",
    "import seaborn as sns\n",
    "import matplotlib.pyplot as plt\n",
    "%matplotlib inline\n",
    "\n",
    "import datetime"
   ]
  },
  {
   "cell_type": "code",
   "execution_count": null,
   "id": "46be6646",
   "metadata": {},
   "outputs": [],
   "source": []
  },
  {
   "cell_type": "code",
   "execution_count": 4,
   "id": "be0d3c09",
   "metadata": {},
   "outputs": [],
   "source": [
    "os.chdir('/Users/krish/Downloads/')\n"
   ]
  },
  {
   "cell_type": "code",
   "execution_count": 69,
   "id": "30055f5e",
   "metadata": {},
   "outputs": [
    {
     "data": {
      "text/plain": [
       "(1191571, 30)"
      ]
     },
     "execution_count": 69,
     "metadata": {},
     "output_type": "execute_result"
    }
   ],
   "source": [
    "crimes = pd.read_csv('Crimes2018.csv')\n",
    "crimes.shape"
   ]
  },
  {
   "cell_type": "code",
   "execution_count": 70,
   "id": "e65d8f61",
   "metadata": {},
   "outputs": [
    {
     "data": {
      "text/plain": [
       "ID                              int64\n",
       "Case Number                    object\n",
       "Date                           object\n",
       "Block                          object\n",
       "IUCR                           object\n",
       "Primary Type                   object\n",
       "Description                    object\n",
       "Location Description           object\n",
       "Arrest                           bool\n",
       "Domestic                         bool\n",
       "Beat                            int64\n",
       "District                        int64\n",
       "Ward                          float64\n",
       "Community Area                float64\n",
       "FBI Code                       object\n",
       "X Coordinate                  float64\n",
       "Y Coordinate                  float64\n",
       "Year                            int64\n",
       "Updated On                     object\n",
       "Latitude                      float64\n",
       "Longitude                     float64\n",
       "Location                       object\n",
       "Historical Wards 2003-2015    float64\n",
       "Zip Codes                     float64\n",
       "Community Areas               float64\n",
       "Census Tracts                 float64\n",
       "Wards                         float64\n",
       "Boundaries - ZIP Codes        float64\n",
       "Police Districts              float64\n",
       "Police Beats                  float64\n",
       "dtype: object"
      ]
     },
     "execution_count": 70,
     "metadata": {},
     "output_type": "execute_result"
    }
   ],
   "source": [
    "crimes.dtypes"
   ]
  },
  {
   "cell_type": "code",
   "execution_count": 71,
   "id": "87c27c38",
   "metadata": {},
   "outputs": [
    {
     "data": {
      "text/plain": [
       "ID                                0\n",
       "Case Number                       0\n",
       "Date                              0\n",
       "Block                             0\n",
       "IUCR                              0\n",
       "Primary Type                      0\n",
       "Description                       0\n",
       "Location Description           6106\n",
       "Arrest                            0\n",
       "Domestic                          0\n",
       "Beat                              0\n",
       "District                          0\n",
       "Ward                             49\n",
       "Community Area                    2\n",
       "FBI Code                          0\n",
       "X Coordinate                  22095\n",
       "Y Coordinate                  22095\n",
       "Year                              0\n",
       "Updated On                        0\n",
       "Latitude                      22095\n",
       "Longitude                     22095\n",
       "Location                      22095\n",
       "Historical Wards 2003-2015    26012\n",
       "Zip Codes                     22095\n",
       "Community Areas               25515\n",
       "Census Tracts                 25374\n",
       "Wards                         25507\n",
       "Boundaries - ZIP Codes        25506\n",
       "Police Districts              25377\n",
       "Police Beats                  25377\n",
       "dtype: int64"
      ]
     },
     "execution_count": 71,
     "metadata": {},
     "output_type": "execute_result"
    }
   ],
   "source": [
    "crimes.isna().sum()"
   ]
  },
  {
   "cell_type": "code",
   "execution_count": 72,
   "id": "e951c116",
   "metadata": {},
   "outputs": [
    {
     "name": "stdout",
     "output_type": "stream",
     "text": [
      "['ID', 'Case Number', 'Date', 'Block', 'IUCR', 'Primary Type', 'Description', 'Location Description', 'Arrest', 'Domestic', 'Beat', 'District', 'Ward', 'Community Area', 'FBI Code', 'X Coordinate', 'Y Coordinate', 'Year', 'Updated On', 'Latitude', 'Longitude', 'Location', 'Historical Wards 2003-2015', 'Zip Codes', 'Community Areas', 'Census Tracts', 'Wards', 'Boundaries - ZIP Codes', 'Police Districts', 'Police Beats']\n"
     ]
    }
   ],
   "source": [
    "column_names = list(crimes.columns)\n",
    "print(column_names)"
   ]
  },
  {
   "cell_type": "markdown",
   "id": "00f4d112",
   "metadata": {},
   "source": [
    "### Dropping Unnecessary Columns"
   ]
  },
  {
   "cell_type": "code",
   "execution_count": 73,
   "id": "8df3b320",
   "metadata": {},
   "outputs": [],
   "source": [
    "crimes = crimes.drop(columns = ['IUCR', 'FBI Code', 'X Coordinate', 'Y Coordinate','Updated On','Latitude', 'Longitude', 'Location',   \n",
    "                                'Historical Wards 2003-2015', 'Zip Codes', 'Community Areas', 'Census Tracts',\n",
    "                                'Wards', 'Boundaries - ZIP Codes', 'Police Districts', 'Police Beats' ])"
   ]
  },
  {
   "cell_type": "code",
   "execution_count": 74,
   "id": "594fa627",
   "metadata": {},
   "outputs": [],
   "source": [
    "crimes.set_index(\"ID\",inplace=True)\n"
   ]
  },
  {
   "cell_type": "code",
   "execution_count": 76,
   "id": "e9483b13",
   "metadata": {},
   "outputs": [],
   "source": [
    "crimes['Date'] = pd.to_datetime(crimes['Date'], format='%m/%d/%Y %I:%M:%S %p')\n",
    "crimes['date'] = crimes['Date'].dt.date\n",
    "crimes['time'] = crimes['Date'].dt.time"
   ]
  },
  {
   "cell_type": "markdown",
   "id": "79e7c9d7",
   "metadata": {},
   "source": [
    "## Encoding Boolean to Integer 0 and 1"
   ]
  },
  {
   "cell_type": "code",
   "execution_count": 90,
   "id": "e1ea5bad",
   "metadata": {},
   "outputs": [],
   "source": [
    "crimes.Arrest = crimes.Arrest.astype(\"str\")\n",
    "crimes.Arrest = crimes.Arrest.str.replace(\"False\",\"0\")\n",
    "crimes.Arrest = crimes.Arrest.str.replace(\"True\",\"1\")\n",
    "crimes.Arrest = crimes.Arrest.astype(\"int\")"
   ]
  },
  {
   "cell_type": "code",
   "execution_count": 91,
   "id": "6055f14e",
   "metadata": {},
   "outputs": [],
   "source": [
    "crimes.Domestic = crimes.Domestic.astype(\"str\")\n",
    "crimes.Domestic = crimes.Domestic.str.replace(\"False\",\"0\")\n",
    "crimes.Domestic = crimes.Domestic.str.replace(\"True\",\"1\")\n",
    "crimes.Domestic = crimes.Domestic.astype(\"int\")"
   ]
  },
  {
   "cell_type": "code",
   "execution_count": 92,
   "id": "56a31b34",
   "metadata": {},
   "outputs": [
    {
     "data": {
      "text/html": [
       "<div>\n",
       "<style scoped>\n",
       "    .dataframe tbody tr th:only-of-type {\n",
       "        vertical-align: middle;\n",
       "    }\n",
       "\n",
       "    .dataframe tbody tr th {\n",
       "        vertical-align: top;\n",
       "    }\n",
       "\n",
       "    .dataframe thead th {\n",
       "        text-align: right;\n",
       "    }\n",
       "</style>\n",
       "<table border=\"1\" class=\"dataframe\">\n",
       "  <thead>\n",
       "    <tr style=\"text-align: right;\">\n",
       "      <th></th>\n",
       "      <th>Case Number</th>\n",
       "      <th>Date</th>\n",
       "      <th>Block</th>\n",
       "      <th>Primary Type</th>\n",
       "      <th>Description</th>\n",
       "      <th>Location Description</th>\n",
       "      <th>Arrest</th>\n",
       "      <th>Domestic</th>\n",
       "      <th>Beat</th>\n",
       "      <th>District</th>\n",
       "      <th>Ward</th>\n",
       "      <th>Community Area</th>\n",
       "      <th>Year</th>\n",
       "      <th>date</th>\n",
       "      <th>time</th>\n",
       "    </tr>\n",
       "    <tr>\n",
       "      <th>ID</th>\n",
       "      <th></th>\n",
       "      <th></th>\n",
       "      <th></th>\n",
       "      <th></th>\n",
       "      <th></th>\n",
       "      <th></th>\n",
       "      <th></th>\n",
       "      <th></th>\n",
       "      <th></th>\n",
       "      <th></th>\n",
       "      <th></th>\n",
       "      <th></th>\n",
       "      <th></th>\n",
       "      <th></th>\n",
       "      <th></th>\n",
       "    </tr>\n",
       "  </thead>\n",
       "  <tbody>\n",
       "    <tr>\n",
       "      <th>13230310</th>\n",
       "      <td>JG447808</td>\n",
       "      <td>2018-01-01</td>\n",
       "      <td>041XX N ASHLAND AVE</td>\n",
       "      <td>DECEPTIVE PRACTICE</td>\n",
       "      <td>FINANCIAL IDENTITY THEFT OVER $ 300</td>\n",
       "      <td>APARTMENT</td>\n",
       "      <td>0</td>\n",
       "      <td>0</td>\n",
       "      <td>1912</td>\n",
       "      <td>19</td>\n",
       "      <td>47.0</td>\n",
       "      <td>6.0</td>\n",
       "      <td>2018</td>\n",
       "      <td>2018-01-01</td>\n",
       "      <td>00:00:00</td>\n",
       "    </tr>\n",
       "    <tr>\n",
       "      <th>13235163</th>\n",
       "      <td>JG453401</td>\n",
       "      <td>2018-01-01</td>\n",
       "      <td>027XX N MANGO AVE</td>\n",
       "      <td>OFFENSE INVOLVING CHILDREN</td>\n",
       "      <td>AGGRAVATED CRIMINAL SEXUAL ABUSE BY FAMILY MEMBER</td>\n",
       "      <td>RESIDENCE</td>\n",
       "      <td>0</td>\n",
       "      <td>1</td>\n",
       "      <td>2514</td>\n",
       "      <td>25</td>\n",
       "      <td>30.0</td>\n",
       "      <td>19.0</td>\n",
       "      <td>2018</td>\n",
       "      <td>2018-01-01</td>\n",
       "      <td>00:00:00</td>\n",
       "    </tr>\n",
       "    <tr>\n",
       "      <th>11848137</th>\n",
       "      <td>JC457303</td>\n",
       "      <td>2018-01-01</td>\n",
       "      <td>081XX S EBERHART AVE</td>\n",
       "      <td>CRIMINAL SEXUAL ASSAULT</td>\n",
       "      <td>AGGRAVATED - OTHER</td>\n",
       "      <td>RESIDENCE</td>\n",
       "      <td>1</td>\n",
       "      <td>0</td>\n",
       "      <td>631</td>\n",
       "      <td>6</td>\n",
       "      <td>6.0</td>\n",
       "      <td>44.0</td>\n",
       "      <td>2018</td>\n",
       "      <td>2018-01-01</td>\n",
       "      <td>00:00:00</td>\n",
       "    </tr>\n",
       "    <tr>\n",
       "      <th>11768997</th>\n",
       "      <td>JC362338</td>\n",
       "      <td>2018-01-01</td>\n",
       "      <td>001XX N ASHLAND AVE</td>\n",
       "      <td>SEX OFFENSE</td>\n",
       "      <td>AGG CRIMINAL SEXUAL ABUSE</td>\n",
       "      <td>RESIDENCE</td>\n",
       "      <td>0</td>\n",
       "      <td>1</td>\n",
       "      <td>1224</td>\n",
       "      <td>12</td>\n",
       "      <td>27.0</td>\n",
       "      <td>28.0</td>\n",
       "      <td>2018</td>\n",
       "      <td>2018-01-01</td>\n",
       "      <td>00:00:00</td>\n",
       "    </tr>\n",
       "    <tr>\n",
       "      <th>12057588</th>\n",
       "      <td>JD240441</td>\n",
       "      <td>2018-01-01</td>\n",
       "      <td>048XX N AVERS AVE</td>\n",
       "      <td>OFFENSE INVOLVING CHILDREN</td>\n",
       "      <td>CRIMINAL SEXUAL ABUSE BY FAMILY MEMBER</td>\n",
       "      <td>APARTMENT</td>\n",
       "      <td>0</td>\n",
       "      <td>1</td>\n",
       "      <td>1712</td>\n",
       "      <td>17</td>\n",
       "      <td>35.0</td>\n",
       "      <td>14.0</td>\n",
       "      <td>2018</td>\n",
       "      <td>2018-01-01</td>\n",
       "      <td>00:00:00</td>\n",
       "    </tr>\n",
       "  </tbody>\n",
       "</table>\n",
       "</div>"
      ],
      "text/plain": [
       "         Case Number       Date                 Block  \\\n",
       "ID                                                      \n",
       "13230310    JG447808 2018-01-01   041XX N ASHLAND AVE   \n",
       "13235163    JG453401 2018-01-01     027XX N MANGO AVE   \n",
       "11848137    JC457303 2018-01-01  081XX S EBERHART AVE   \n",
       "11768997    JC362338 2018-01-01   001XX N ASHLAND AVE   \n",
       "12057588    JD240441 2018-01-01     048XX N AVERS AVE   \n",
       "\n",
       "                        Primary Type  \\\n",
       "ID                                     \n",
       "13230310          DECEPTIVE PRACTICE   \n",
       "13235163  OFFENSE INVOLVING CHILDREN   \n",
       "11848137     CRIMINAL SEXUAL ASSAULT   \n",
       "11768997                 SEX OFFENSE   \n",
       "12057588  OFFENSE INVOLVING CHILDREN   \n",
       "\n",
       "                                                Description  \\\n",
       "ID                                                            \n",
       "13230310                FINANCIAL IDENTITY THEFT OVER $ 300   \n",
       "13235163  AGGRAVATED CRIMINAL SEXUAL ABUSE BY FAMILY MEMBER   \n",
       "11848137                                 AGGRAVATED - OTHER   \n",
       "11768997                          AGG CRIMINAL SEXUAL ABUSE   \n",
       "12057588             CRIMINAL SEXUAL ABUSE BY FAMILY MEMBER   \n",
       "\n",
       "         Location Description  Arrest  Domestic  Beat  District  Ward  \\\n",
       "ID                                                                      \n",
       "13230310            APARTMENT       0         0  1912        19  47.0   \n",
       "13235163            RESIDENCE       0         1  2514        25  30.0   \n",
       "11848137            RESIDENCE       1         0   631         6   6.0   \n",
       "11768997            RESIDENCE       0         1  1224        12  27.0   \n",
       "12057588            APARTMENT       0         1  1712        17  35.0   \n",
       "\n",
       "          Community Area  Year        date      time  \n",
       "ID                                                    \n",
       "13230310             6.0  2018  2018-01-01  00:00:00  \n",
       "13235163            19.0  2018  2018-01-01  00:00:00  \n",
       "11848137            44.0  2018  2018-01-01  00:00:00  \n",
       "11768997            28.0  2018  2018-01-01  00:00:00  \n",
       "12057588            14.0  2018  2018-01-01  00:00:00  "
      ]
     },
     "execution_count": 92,
     "metadata": {},
     "output_type": "execute_result"
    }
   ],
   "source": [
    "crimes.head()"
   ]
  },
  {
   "cell_type": "markdown",
   "id": "2e9884f4",
   "metadata": {},
   "source": [
    "### New column for Day"
   ]
  },
  {
   "cell_type": "code",
   "execution_count": 114,
   "id": "cbfb3fc2",
   "metadata": {},
   "outputs": [],
   "source": [
    "df = crimes\n",
    "crimes['Weekday'] = crimes['Date'].dt.weekday"
   ]
  },
  {
   "cell_type": "code",
   "execution_count": 117,
   "id": "cfd2a275",
   "metadata": {},
   "outputs": [
    {
     "data": {
      "text/plain": [
       "dtype('int64')"
      ]
     },
     "execution_count": 117,
     "metadata": {},
     "output_type": "execute_result"
    }
   ],
   "source": []
  },
  {
   "cell_type": "code",
   "execution_count": 119,
   "id": "39fb9164",
   "metadata": {},
   "outputs": [
    {
     "data": {
      "text/plain": [
       "Case Number                0\n",
       "Date                       0\n",
       "Block                      0\n",
       "Primary Type               0\n",
       "Description                0\n",
       "Location Description    6106\n",
       "Arrest                     0\n",
       "Domestic                   0\n",
       "Beat                       0\n",
       "District                   0\n",
       "Ward                      49\n",
       "Community Area             2\n",
       "Year                       0\n",
       "date                       0\n",
       "time                       0\n",
       "Weekday                    0\n",
       "dtype: int64"
      ]
     },
     "execution_count": 119,
     "metadata": {},
     "output_type": "execute_result"
    }
   ],
   "source": [
    "crimes.isna().sum()"
   ]
  },
  {
   "cell_type": "code",
   "execution_count": 124,
   "id": "24ec5277",
   "metadata": {},
   "outputs": [
    {
     "data": {
      "text/plain": [
       "array(['DECEPTIVE PRACTICE', 'OFFENSE INVOLVING CHILDREN',\n",
       "       'CRIMINAL SEXUAL ASSAULT', 'SEX OFFENSE', 'CRIMINAL DAMAGE',\n",
       "       'THEFT', 'OTHER OFFENSE', 'MOTOR VEHICLE THEFT', 'BATTERY',\n",
       "       'ASSAULT', 'CRIM SEXUAL ASSAULT', 'BURGLARY', 'CRIMINAL TRESPASS',\n",
       "       'OBSCENITY', 'WEAPONS VIOLATION', 'NARCOTICS', 'ROBBERY',\n",
       "       'LIQUOR LAW VIOLATION', 'HOMICIDE', 'PUBLIC PEACE VIOLATION',\n",
       "       'INTERFERENCE WITH PUBLIC OFFICER', 'STALKING', 'INTIMIDATION',\n",
       "       'ARSON', 'HUMAN TRAFFICKING', 'GAMBLING', 'KIDNAPPING',\n",
       "       'PROSTITUTION', 'NON-CRIMINAL',\n",
       "       'CONCEALED CARRY LICENSE VIOLATION', 'PUBLIC INDECENCY',\n",
       "       'NON-CRIMINAL (SUBJECT SPECIFIED)', 'OTHER NARCOTIC VIOLATION',\n",
       "       'RITUALISM'], dtype=object)"
      ]
     },
     "execution_count": 124,
     "metadata": {},
     "output_type": "execute_result"
    }
   ],
   "source": [
    "crimes['Primary Type'].unique()"
   ]
  },
  {
   "cell_type": "code",
   "execution_count": 125,
   "id": "e01346fc",
   "metadata": {},
   "outputs": [],
   "source": [
    "def translation(value):\n",
    "    if value in [\"CRIMINAL SEXUAL ASSAULT\", \"CRIMINAL DAMAGE\", \"HOMICIDE\", \"HUMAN TRAFFICKING\", \"KIDNAPPING\",\n",
    "                 \"NARCOTICS\", \"OFFENSE INVOLVING CHILDREN\", \"PROSTITUTION\", \"BURGLARY\"]:\n",
    "        return \"FELONY\"\n",
    "    \n",
    "    elif value in [\"ARSON\", \"ASSAULT\", \"BURGLARY\",\"DECEPTIVE PRACTICE\",\"MOTOR VEHICLE THEFT\", \"INTIMIDATION\",\n",
    "               \"ROBBERY\",\"SEX OFFENSE\", \"THEFT\", \"CRIMINAL TRESPASS\"]:\n",
    "        return \"MISDEMEANOR\"\n",
    "    \n",
    "    elif value in  [\"CONCEALED CARRY LICENSE VIOLATION\",\"OTHER NARCOTIC VIOLATION\", \"PUBLIC INDECENCY\",\n",
    "               \"STALKING\", \"OBSCENITY\", \"LIQUOR LAW VIOLATION\", \"PUBLIC PEACE VIOLATION\",\n",
    "                \"INTERFERENCE WITH PUBLIC OFFICER\", \"OTHER OFFENSE\", \"WEAPONS VIOLATION\", \"BATTERY\"]:\n",
    "        return \"INFRACTION\"\n",
    "\n",
    "    elif value in [\"RITUALISM\", \"GAMBLING\"]:\n",
    "        return \"OTHER\"\n",
    "    \n",
    "crimes[\"Crime_Type\"] = list(map(translation,crimes[\"Primary Type\"]))"
   ]
  },
  {
   "cell_type": "code",
   "execution_count": 126,
   "id": "d10c0ee3",
   "metadata": {},
   "outputs": [
    {
     "data": {
      "text/html": [
       "<div>\n",
       "<style scoped>\n",
       "    .dataframe tbody tr th:only-of-type {\n",
       "        vertical-align: middle;\n",
       "    }\n",
       "\n",
       "    .dataframe tbody tr th {\n",
       "        vertical-align: top;\n",
       "    }\n",
       "\n",
       "    .dataframe thead th {\n",
       "        text-align: right;\n",
       "    }\n",
       "</style>\n",
       "<table border=\"1\" class=\"dataframe\">\n",
       "  <thead>\n",
       "    <tr style=\"text-align: right;\">\n",
       "      <th></th>\n",
       "      <th>Case Number</th>\n",
       "      <th>Date</th>\n",
       "      <th>Block</th>\n",
       "      <th>Primary Type</th>\n",
       "      <th>Description</th>\n",
       "      <th>Location Description</th>\n",
       "      <th>Arrest</th>\n",
       "      <th>Domestic</th>\n",
       "      <th>Beat</th>\n",
       "      <th>District</th>\n",
       "      <th>Ward</th>\n",
       "      <th>Community Area</th>\n",
       "      <th>Year</th>\n",
       "      <th>date</th>\n",
       "      <th>time</th>\n",
       "      <th>Weekday</th>\n",
       "      <th>Crime_Type</th>\n",
       "    </tr>\n",
       "    <tr>\n",
       "      <th>ID</th>\n",
       "      <th></th>\n",
       "      <th></th>\n",
       "      <th></th>\n",
       "      <th></th>\n",
       "      <th></th>\n",
       "      <th></th>\n",
       "      <th></th>\n",
       "      <th></th>\n",
       "      <th></th>\n",
       "      <th></th>\n",
       "      <th></th>\n",
       "      <th></th>\n",
       "      <th></th>\n",
       "      <th></th>\n",
       "      <th></th>\n",
       "      <th></th>\n",
       "      <th></th>\n",
       "    </tr>\n",
       "  </thead>\n",
       "  <tbody>\n",
       "    <tr>\n",
       "      <th>13230310</th>\n",
       "      <td>JG447808</td>\n",
       "      <td>2018-01-01</td>\n",
       "      <td>041XX N ASHLAND AVE</td>\n",
       "      <td>DECEPTIVE PRACTICE</td>\n",
       "      <td>FINANCIAL IDENTITY THEFT OVER $ 300</td>\n",
       "      <td>APARTMENT</td>\n",
       "      <td>0</td>\n",
       "      <td>0</td>\n",
       "      <td>1912</td>\n",
       "      <td>19</td>\n",
       "      <td>47.0</td>\n",
       "      <td>6.0</td>\n",
       "      <td>2018</td>\n",
       "      <td>2018-01-01</td>\n",
       "      <td>00:00:00</td>\n",
       "      <td>0</td>\n",
       "      <td>MISDEMEANOR</td>\n",
       "    </tr>\n",
       "    <tr>\n",
       "      <th>13235163</th>\n",
       "      <td>JG453401</td>\n",
       "      <td>2018-01-01</td>\n",
       "      <td>027XX N MANGO AVE</td>\n",
       "      <td>OFFENSE INVOLVING CHILDREN</td>\n",
       "      <td>AGGRAVATED CRIMINAL SEXUAL ABUSE BY FAMILY MEMBER</td>\n",
       "      <td>RESIDENCE</td>\n",
       "      <td>0</td>\n",
       "      <td>1</td>\n",
       "      <td>2514</td>\n",
       "      <td>25</td>\n",
       "      <td>30.0</td>\n",
       "      <td>19.0</td>\n",
       "      <td>2018</td>\n",
       "      <td>2018-01-01</td>\n",
       "      <td>00:00:00</td>\n",
       "      <td>0</td>\n",
       "      <td>FELONY</td>\n",
       "    </tr>\n",
       "    <tr>\n",
       "      <th>11848137</th>\n",
       "      <td>JC457303</td>\n",
       "      <td>2018-01-01</td>\n",
       "      <td>081XX S EBERHART AVE</td>\n",
       "      <td>CRIMINAL SEXUAL ASSAULT</td>\n",
       "      <td>AGGRAVATED - OTHER</td>\n",
       "      <td>RESIDENCE</td>\n",
       "      <td>1</td>\n",
       "      <td>0</td>\n",
       "      <td>631</td>\n",
       "      <td>6</td>\n",
       "      <td>6.0</td>\n",
       "      <td>44.0</td>\n",
       "      <td>2018</td>\n",
       "      <td>2018-01-01</td>\n",
       "      <td>00:00:00</td>\n",
       "      <td>0</td>\n",
       "      <td>FELONY</td>\n",
       "    </tr>\n",
       "    <tr>\n",
       "      <th>11768997</th>\n",
       "      <td>JC362338</td>\n",
       "      <td>2018-01-01</td>\n",
       "      <td>001XX N ASHLAND AVE</td>\n",
       "      <td>SEX OFFENSE</td>\n",
       "      <td>AGG CRIMINAL SEXUAL ABUSE</td>\n",
       "      <td>RESIDENCE</td>\n",
       "      <td>0</td>\n",
       "      <td>1</td>\n",
       "      <td>1224</td>\n",
       "      <td>12</td>\n",
       "      <td>27.0</td>\n",
       "      <td>28.0</td>\n",
       "      <td>2018</td>\n",
       "      <td>2018-01-01</td>\n",
       "      <td>00:00:00</td>\n",
       "      <td>0</td>\n",
       "      <td>MISDEMEANOR</td>\n",
       "    </tr>\n",
       "    <tr>\n",
       "      <th>12057588</th>\n",
       "      <td>JD240441</td>\n",
       "      <td>2018-01-01</td>\n",
       "      <td>048XX N AVERS AVE</td>\n",
       "      <td>OFFENSE INVOLVING CHILDREN</td>\n",
       "      <td>CRIMINAL SEXUAL ABUSE BY FAMILY MEMBER</td>\n",
       "      <td>APARTMENT</td>\n",
       "      <td>0</td>\n",
       "      <td>1</td>\n",
       "      <td>1712</td>\n",
       "      <td>17</td>\n",
       "      <td>35.0</td>\n",
       "      <td>14.0</td>\n",
       "      <td>2018</td>\n",
       "      <td>2018-01-01</td>\n",
       "      <td>00:00:00</td>\n",
       "      <td>0</td>\n",
       "      <td>FELONY</td>\n",
       "    </tr>\n",
       "  </tbody>\n",
       "</table>\n",
       "</div>"
      ],
      "text/plain": [
       "         Case Number       Date                 Block  \\\n",
       "ID                                                      \n",
       "13230310    JG447808 2018-01-01   041XX N ASHLAND AVE   \n",
       "13235163    JG453401 2018-01-01     027XX N MANGO AVE   \n",
       "11848137    JC457303 2018-01-01  081XX S EBERHART AVE   \n",
       "11768997    JC362338 2018-01-01   001XX N ASHLAND AVE   \n",
       "12057588    JD240441 2018-01-01     048XX N AVERS AVE   \n",
       "\n",
       "                        Primary Type  \\\n",
       "ID                                     \n",
       "13230310          DECEPTIVE PRACTICE   \n",
       "13235163  OFFENSE INVOLVING CHILDREN   \n",
       "11848137     CRIMINAL SEXUAL ASSAULT   \n",
       "11768997                 SEX OFFENSE   \n",
       "12057588  OFFENSE INVOLVING CHILDREN   \n",
       "\n",
       "                                                Description  \\\n",
       "ID                                                            \n",
       "13230310                FINANCIAL IDENTITY THEFT OVER $ 300   \n",
       "13235163  AGGRAVATED CRIMINAL SEXUAL ABUSE BY FAMILY MEMBER   \n",
       "11848137                                 AGGRAVATED - OTHER   \n",
       "11768997                          AGG CRIMINAL SEXUAL ABUSE   \n",
       "12057588             CRIMINAL SEXUAL ABUSE BY FAMILY MEMBER   \n",
       "\n",
       "         Location Description  Arrest  Domestic  Beat  District  Ward  \\\n",
       "ID                                                                      \n",
       "13230310            APARTMENT       0         0  1912        19  47.0   \n",
       "13235163            RESIDENCE       0         1  2514        25  30.0   \n",
       "11848137            RESIDENCE       1         0   631         6   6.0   \n",
       "11768997            RESIDENCE       0         1  1224        12  27.0   \n",
       "12057588            APARTMENT       0         1  1712        17  35.0   \n",
       "\n",
       "          Community Area  Year        date      time  Weekday   Crime_Type  \n",
       "ID                                                                          \n",
       "13230310             6.0  2018  2018-01-01  00:00:00        0  MISDEMEANOR  \n",
       "13235163            19.0  2018  2018-01-01  00:00:00        0       FELONY  \n",
       "11848137            44.0  2018  2018-01-01  00:00:00        0       FELONY  \n",
       "11768997            28.0  2018  2018-01-01  00:00:00        0  MISDEMEANOR  \n",
       "12057588            14.0  2018  2018-01-01  00:00:00        0       FELONY  "
      ]
     },
     "execution_count": 126,
     "metadata": {},
     "output_type": "execute_result"
    }
   ],
   "source": [
    "crimes.head()"
   ]
  },
  {
   "cell_type": "code",
   "execution_count": null,
   "id": "be71e887",
   "metadata": {},
   "outputs": [],
   "source": []
  }
 ],
 "metadata": {
  "kernelspec": {
   "display_name": "Python 3 (ipykernel)",
   "language": "python",
   "name": "python3"
  },
  "language_info": {
   "codemirror_mode": {
    "name": "ipython",
    "version": 3
   },
   "file_extension": ".py",
   "mimetype": "text/x-python",
   "name": "python",
   "nbconvert_exporter": "python",
   "pygments_lexer": "ipython3",
   "version": "3.11.4"
  }
 },
 "nbformat": 4,
 "nbformat_minor": 5
}
